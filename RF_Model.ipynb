{
  "nbformat": 4,
  "nbformat_minor": 0,
  "metadata": {
    "colab": {
      "provenance": []
    },
    "kernelspec": {
      "name": "python3",
      "display_name": "Python 3"
    },
    "language_info": {
      "name": "python"
    }
  },
  "cells": [
    {
      "cell_type": "code",
      "execution_count": null,
      "metadata": {
        "id": "eO8kUvEZfrDX",
        "colab": {
          "base_uri": "https://localhost:8080/"
        },
        "outputId": "509e3286-8e38-4758-87bb-5d0244e01aa6"
      },
      "outputs": [
        {
          "output_type": "stream",
          "name": "stdout",
          "text": [
            "Model Accuracy: 95.00%\n"
          ]
        }
      ],
      "source": [
        "import pandas as pd\n",
        "import numpy as np\n",
        "from sklearn.model_selection import train_test_split\n",
        "from sklearn.ensemble import RandomForestClassifier\n",
        "from sklearn.metrics import accuracy_score\n",
        "import pickle\n",
        "\n",
        "# Load dataset\n",
        "df = pd.read_csv(\"flood_dataset_v2.csv\")\n",
        "\n",
        "# Features & Target\n",
        "X = df[[\"Water Level\", \"Temperature\", \"Rainfall\"]]\n",
        "y = df[\"Flood Occurred\"]\n",
        "\n",
        "# Train-test split (80% train, 20% test)\n",
        "X_train, X_test, y_train, y_test = train_test_split(X, y, test_size=0.2, random_state=42)\n",
        "\n",
        "# Train the model\n",
        "model = RandomForestClassifier(n_estimators=100, random_state=42)\n",
        "model.fit(X_train, y_train)\n",
        "\n",
        "# Make predictions\n",
        "y_pred = model.predict(X_test)\n",
        "\n",
        "# Calculate accuracy\n",
        "accuracy = accuracy_score(y_test, y_pred)\n",
        "print(f\"Model Accuracy: {accuracy * 100:.2f}%\")"
      ]
    },
    {
      "cell_type": "code",
      "source": [
        "from sklearn.metrics import roc_auc_score\n",
        "# Make predictions\n",
        "\n",
        "y_pred_proba = model.predict_proba(X_test)[:, 1] # Probability of positive class\n",
        "\n",
        "# Calculate accuracy\n",
        "accuracy = accuracy_score(y_test, y_pred)\n",
        "print(f\"Model Accuracy: {accuracy * 100:.2f}%\")\n",
        "\n",
        "auroc = roc_auc_score(y_test, y_pred_proba)\n",
        "print(f\"AUROC Score: {auroc:.4f}\")\n"
      ],
      "metadata": {
        "colab": {
          "base_uri": "https://localhost:8080/"
        },
        "id": "199OZCyJi-r6",
        "outputId": "42504ad3-c33d-4c5b-a258-77e773ffdda2"
      },
      "execution_count": null,
      "outputs": [
        {
          "output_type": "stream",
          "name": "stdout",
          "text": [
            "Model Accuracy: 95.00%\n",
            "AUROC Score: 0.9334\n"
          ]
        }
      ]
    },
    {
      "cell_type": "code",
      "source": [
        "# prompt: find the F1 score\n",
        "\n",
        "from sklearn.metrics import f1_score\n",
        "\n",
        "# Calculate F1 score\n",
        "f1 = f1_score(y_test, y_pred)\n",
        "print(f\"F1 Score: {f1:.4f}\")\n"
      ],
      "metadata": {
        "colab": {
          "base_uri": "https://localhost:8080/"
        },
        "id": "LfIu0IvDL8Ql",
        "outputId": "2aa6bf47-e2e7-41b5-ba83-e161f0b9604b"
      },
      "execution_count": null,
      "outputs": [
        {
          "output_type": "stream",
          "name": "stdout",
          "text": [
            "F1 Score: 0.9107\n"
          ]
        }
      ]
    },
    {
      "cell_type": "code",
      "source": [
        "# prompt: make the confusion matrix\n",
        "\n",
        "from sklearn.metrics import confusion_matrix\n",
        "import seaborn as sns\n",
        "import matplotlib.pyplot as plt\n",
        "\n",
        "# Assuming y_test and y_pred are already defined from your previous code\n",
        "\n",
        "# Create the confusion matrix\n",
        "cm = confusion_matrix(y_test, y_pred)\n",
        "\n",
        "# Plot the confusion matrix using seaborn\n",
        "plt.figure(figsize=(8, 6))\n",
        "sns.heatmap(cm, annot=True, fmt=\"d\", cmap=\"Blues\",\n",
        "            xticklabels=[\"No Flood\", \"Flood\"], yticklabels=[\"No Flood\", \"Flood\"])\n",
        "plt.xlabel(\"Predicted\")\n",
        "plt.ylabel(\"Actual\")\n",
        "plt.title(\"Confusion Matrix\")\n",
        "plt.show()\n"
      ],
      "metadata": {
        "colab": {
          "base_uri": "https://localhost:8080/",
          "height": 564
        },
        "id": "ZzmP3Y7iMvel",
        "outputId": "9e23a071-cfba-44c3-f8a6-5743f628b4a4"
      },
      "execution_count": null,
      "outputs": [
        {
          "output_type": "display_data",
          "data": {
            "text/plain": [
              "<Figure size 800x600 with 2 Axes>"
            ],
            "image/png": "[encoded data removed]"
          },
          "metadata": {}
        }
      ]
    },
    {
      "cell_type": "code",
      "source": [
        "# Custom input values (replace with your own values)\n",
        "custom_input = {\n",
        "    \"Water Level\": [300.5],  # Replace with your custom value\n",
        "    \"Temperature\": [32],    # Replace with your custom value\n",
        "    \"Rainfall\": [47]       # Replace with your custom value\n",
        "}\n",
        "\n",
        "# Convert the custom input into a DataFrame\n",
        "custom_input_df = pd.DataFrame(custom_input)\n",
        "\n",
        "# Make a prediction using the trained model\n",
        "custom_prediction = model.predict(custom_input_df)\n",
        "\n",
        "# Output the prediction\n",
        "if custom_prediction[0] == 1:\n",
        "    print(\"Flood Occurred\")\n",
        "else:\n",
        "    print(\"Flood did not occur\")\n"
      ],
      "metadata": {
        "colab": {
          "base_uri": "https://localhost:8080/"
        },
        "id": "Hl2cAOT_idWN",
        "outputId": "c8b758ab-5e48-4f5e-ced9-ca1e30db3aa2"
      },
      "execution_count": null,
      "outputs": [
        {
          "output_type": "stream",
          "name": "stdout",
          "text": [
            "Flood Occurred\n"
          ]
        }
      ]
    },
    {
      "cell_type": "code",
      "source": [
        "with open(\"flood_model.pkl\", \"wb\") as f:\n",
        "    pickle.dump(model, f)"
      ],
      "metadata": {
        "id": "51OoCe18mfQk"
      },
      "execution_count": null,
      "outputs": []
    },
    {
      "cell_type": "code",
      "source": [],
      "metadata": {
        "id": "Jb5lpxgtgWZ2"
      },
      "execution_count": null,
      "outputs": []
    }
  ]
}